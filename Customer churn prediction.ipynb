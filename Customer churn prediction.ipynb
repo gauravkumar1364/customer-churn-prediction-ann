{
 "cells": [
  {
   "cell_type": "markdown",
   "id": "3d7c72e5-a46b-4818-9b48-074378224a51",
   "metadata": {},
   "source": [
    "Importing Libraries "
   ]
  },
  {
   "cell_type": "code",
   "execution_count": 1,
   "id": "3e26be44-062c-4d89-bc79-f73946b7f860",
   "metadata": {},
   "outputs": [
    {
     "name": "stdout",
     "output_type": "stream",
     "text": [
      "WARNING:tensorflow:From C:\\Python310\\lib\\site-packages\\keras\\src\\losses.py:2976: The name tf.losses.sparse_softmax_cross_entropy is deprecated. Please use tf.compat.v1.losses.sparse_softmax_cross_entropy instead.\n",
      "\n"
     ]
    }
   ],
   "source": [
    "import numpy as np\n",
    "import pandas as pd\n",
    "import seaborn as sns\n",
    "import matplotlib.pyplot as plt\n",
    "\n",
    "from sklearn.model_selection import train_test_split\n",
    "from sklearn.preprocessing import StandardScaler\n",
    "from sklearn.metrics import accuracy_score\n",
    "\n",
    "from tensorflow.keras.models import Sequential\n",
    "from tensorflow.keras.layers import Dense"
   ]
  },
  {
   "cell_type": "markdown",
   "id": "e7f51aec-d129-49d3-b435-d3326feb4c36",
   "metadata": {},
   "source": [
    "Data Loading"
   ]
  },
  {
   "cell_type": "code",
   "execution_count": 2,
   "id": "8a072e85-5fb8-4604-ac37-023ecc96cd7c",
   "metadata": {},
   "outputs": [],
   "source": [
    "df = pd.read_csv(\"Churn_Modelling.csv\")"
   ]
  },
  {
   "cell_type": "markdown",
   "id": "1ad5217c-370e-4a70-917c-ed7aaa435d09",
   "metadata": {},
   "source": [
    "Data Preprocessing"
   ]
  },
  {
   "cell_type": "code",
   "execution_count": 3,
   "id": "7794922a-2286-499d-b8db-7e4cc14c7d99",
   "metadata": {},
   "outputs": [
    {
     "name": "stdout",
     "output_type": "stream",
     "text": [
      "(10000, 14)\n",
      "   RowNumber  CustomerId   Surname  CreditScore Geography  Gender  Age  \\\n",
      "0          1    15634602  Hargrave          619    France  Female   42   \n",
      "1          2    15647311      Hill          608     Spain  Female   41   \n",
      "2          3    15619304      Onio          502    France  Female   42   \n",
      "3          4    15701354      Boni          699    France  Female   39   \n",
      "4          5    15737888  Mitchell          850     Spain  Female   43   \n",
      "\n",
      "   Tenure    Balance  NumOfProducts  HasCrCard  IsActiveMember  \\\n",
      "0       2       0.00              1          1               1   \n",
      "1       1   83807.86              1          0               1   \n",
      "2       8  159660.80              3          1               0   \n",
      "3       1       0.00              2          0               0   \n",
      "4       2  125510.82              1          1               1   \n",
      "\n",
      "   EstimatedSalary  Exited  \n",
      "0        101348.88       1  \n",
      "1        112542.58       0  \n",
      "2        113931.57       1  \n",
      "3         93826.63       0  \n",
      "4         79084.10       0  \n",
      "<class 'pandas.core.frame.DataFrame'>\n",
      "RangeIndex: 10000 entries, 0 to 9999\n",
      "Data columns (total 14 columns):\n",
      " #   Column           Non-Null Count  Dtype  \n",
      "---  ------           --------------  -----  \n",
      " 0   RowNumber        10000 non-null  int64  \n",
      " 1   CustomerId       10000 non-null  int64  \n",
      " 2   Surname          10000 non-null  object \n",
      " 3   CreditScore      10000 non-null  int64  \n",
      " 4   Geography        10000 non-null  object \n",
      " 5   Gender           10000 non-null  object \n",
      " 6   Age              10000 non-null  int64  \n",
      " 7   Tenure           10000 non-null  int64  \n",
      " 8   Balance          10000 non-null  float64\n",
      " 9   NumOfProducts    10000 non-null  int64  \n",
      " 10  HasCrCard        10000 non-null  int64  \n",
      " 11  IsActiveMember   10000 non-null  int64  \n",
      " 12  EstimatedSalary  10000 non-null  float64\n",
      " 13  Exited           10000 non-null  int64  \n",
      "dtypes: float64(2), int64(9), object(3)\n",
      "memory usage: 1.1+ MB\n",
      "None\n",
      "Missing values:\n",
      " RowNumber          0\n",
      "CustomerId         0\n",
      "Surname            0\n",
      "CreditScore        0\n",
      "Geography          0\n",
      "Gender             0\n",
      "Age                0\n",
      "Tenure             0\n",
      "Balance            0\n",
      "NumOfProducts      0\n",
      "HasCrCard          0\n",
      "IsActiveMember     0\n",
      "EstimatedSalary    0\n",
      "Exited             0\n",
      "dtype: int64\n",
      "Duplicate rows: 0\n"
     ]
    }
   ],
   "source": [
    "print(df.shape)\n",
    "print(df.head())\n",
    "print(df.info())\n",
    "print(\"Missing values:\\n\", df.isnull().sum())\n",
    "print(\"Duplicate rows:\", df.duplicated().sum())"
   ]
  },
  {
   "cell_type": "code",
   "execution_count": 4,
   "id": "aca1fe43-1c23-4666-9577-49af543a7faa",
   "metadata": {},
   "outputs": [],
   "source": [
    "df.drop(columns=[\"RowNumber\", \"CustomerId\", \"Surname\"], inplace=True)\n",
    "df = pd.get_dummies(df, columns=['Geography', 'Gender'], drop_first=True)"
   ]
  },
  {
   "cell_type": "code",
   "execution_count": 5,
   "id": "0a3568e8-9aa5-4fe0-90f4-cf77840af2a4",
   "metadata": {},
   "outputs": [],
   "source": [
    "x = df.drop(columns='Exited')\n",
    "y = df['Exited']"
   ]
  },
  {
   "cell_type": "code",
   "execution_count": 6,
   "id": "eae0f77c-8501-474b-9172-369347a60858",
   "metadata": {},
   "outputs": [],
   "source": [
    "x_train, x_test, y_train, y_test = train_test_split(x, y, test_size=0.2, random_state=42)"
   ]
  },
  {
   "cell_type": "code",
   "execution_count": 7,
   "id": "ba32d31a-a8af-48f0-bb52-606e8ce4be3a",
   "metadata": {},
   "outputs": [],
   "source": [
    "scaler = StandardScaler()\n",
    "x_train_scaled = scaler.fit_transform(x_train)\n",
    "x_test_scaled = scaler.transform(x_test)"
   ]
  },
  {
   "cell_type": "markdown",
   "id": "f6a5e9c7-a88d-44c8-8bd9-ece2ce8a9a97",
   "metadata": {},
   "source": [
    "Model Building"
   ]
  },
  {
   "cell_type": "code",
   "execution_count": 8,
   "id": "f399e979-363e-465d-851e-3dd77017f807",
   "metadata": {},
   "outputs": [
    {
     "name": "stdout",
     "output_type": "stream",
     "text": [
      "WARNING:tensorflow:From C:\\Python310\\lib\\site-packages\\keras\\src\\backend.py:873: The name tf.get_default_graph is deprecated. Please use tf.compat.v1.get_default_graph instead.\n",
      "\n"
     ]
    }
   ],
   "source": [
    "model = Sequential()\n",
    "model.add(Dense(3, activation='sigmoid', input_dim=x_train_scaled.shape[1]))\n",
    "model.add(Dense(1, activation='sigmoid'))"
   ]
  },
  {
   "cell_type": "code",
   "execution_count": 9,
   "id": "e62e77c1-f81d-4061-9de2-6ea4bc81d5d0",
   "metadata": {},
   "outputs": [
    {
     "name": "stdout",
     "output_type": "stream",
     "text": [
      "WARNING:tensorflow:From C:\\Python310\\lib\\site-packages\\keras\\src\\optimizers\\__init__.py:309: The name tf.train.Optimizer is deprecated. Please use tf.compat.v1.train.Optimizer instead.\n",
      "\n"
     ]
    }
   ],
   "source": [
    "model.compile(optimizer='adam', loss='binary_crossentropy', metrics=['accuracy'])"
   ]
  },
  {
   "cell_type": "markdown",
   "id": "b2ae6bac-3e5a-49d5-9cc8-4b8b4bf9f73d",
   "metadata": {},
   "source": [
    "Training"
   ]
  },
  {
   "cell_type": "code",
   "execution_count": null,
   "id": "e6342e98-0ba1-4457-9ab0-58da7fc6ab97",
   "metadata": {},
   "outputs": [
    {
     "name": "stderr",
     "output_type": "stream",
     "text": [
      "C:\\Python310\\lib\\site-packages\\keras\\src\\engine\\data_adapter.py:1808: FutureWarning: The behavior of `series[i:j]` with an integer-dtype index is deprecated. In a future version, this will be treated as *label-based* indexing, consistent with e.g. `series[i]` lookups. To retain the old behavior, use `series.iloc[i:j]`. To get the future behavior, use `series.loc[i:j]`.\n",
      "  return t[start:end]\n"
     ]
    },
    {
     "name": "stdout",
     "output_type": "stream",
     "text": [
      "Epoch 1/100\n",
      "WARNING:tensorflow:From C:\\Python310\\lib\\site-packages\\keras\\src\\utils\\tf_utils.py:492: The name tf.ragged.RaggedTensorValue is deprecated. Please use tf.compat.v1.ragged.RaggedTensorValue instead.\n",
      "\n",
      "WARNING:tensorflow:From C:\\Python310\\lib\\site-packages\\keras\\src\\engine\\base_layer_utils.py:384: The name tf.executing_eagerly_outside_functions is deprecated. Please use tf.compat.v1.executing_eagerly_outside_functions instead.\n",
      "\n",
      "128/128 [==============================] - 3s 8ms/step - loss: 0.5990 - accuracy: 0.7914 - val_loss: 0.5643 - val_accuracy: 0.7987\n",
      "Epoch 2/100\n",
      "128/128 [==============================] - 1s 4ms/step - loss: 0.5459 - accuracy: 0.7934 - val_loss: 0.5219 - val_accuracy: 0.7987\n",
      "Epoch 3/100\n",
      "128/128 [==============================] - 1s 4ms/step - loss: 0.5144 - accuracy: 0.7934 - val_loss: 0.4969 - val_accuracy: 0.7987\n",
      "Epoch 4/100\n",
      "128/128 [==============================] - 0s 4ms/step - loss: 0.4955 - accuracy: 0.7934 - val_loss: 0.4807 - val_accuracy: 0.7987\n",
      "Epoch 5/100\n",
      "128/128 [==============================] - 0s 3ms/step - loss: 0.4832 - accuracy: 0.7934 - val_loss: 0.4693 - val_accuracy: 0.7987\n",
      "Epoch 6/100\n",
      "128/128 [==============================] - 1s 4ms/step - loss: 0.4743 - accuracy: 0.7934 - val_loss: 0.4606 - val_accuracy: 0.7987\n",
      "Epoch 7/100\n",
      "128/128 [==============================] - 1s 4ms/step - loss: 0.4673 - accuracy: 0.7934 - val_loss: 0.4535 - val_accuracy: 0.7987\n",
      "Epoch 8/100\n",
      "128/128 [==============================] - 1s 5ms/step - loss: 0.4615 - accuracy: 0.7934 - val_loss: 0.4479 - val_accuracy: 0.7987\n",
      "Epoch 9/100\n",
      "128/128 [==============================] - 0s 3ms/step - loss: 0.4567 - accuracy: 0.7934 - val_loss: 0.4431 - val_accuracy: 0.7987\n",
      "Epoch 10/100\n",
      "128/128 [==============================] - 0s 4ms/step - loss: 0.4525 - accuracy: 0.7934 - val_loss: 0.4391 - val_accuracy: 0.7987\n",
      "Epoch 11/100\n",
      "128/128 [==============================] - 1s 4ms/step - loss: 0.4489 - accuracy: 0.7934 - val_loss: 0.4357 - val_accuracy: 0.7987\n",
      "Epoch 12/100\n",
      "128/128 [==============================] - 1s 4ms/step - loss: 0.4458 - accuracy: 0.7934 - val_loss: 0.4328 - val_accuracy: 0.7987\n",
      "Epoch 13/100\n",
      "128/128 [==============================] - 1s 4ms/step - loss: 0.4430 - accuracy: 0.7934 - val_loss: 0.4303 - val_accuracy: 0.7987\n",
      "Epoch 14/100\n",
      "128/128 [==============================] - 1s 4ms/step - loss: 0.4405 - accuracy: 0.7934 - val_loss: 0.4282 - val_accuracy: 0.7987\n",
      "Epoch 15/100\n",
      "128/128 [==============================] - 0s 4ms/step - loss: 0.4384 - accuracy: 0.7934 - val_loss: 0.4262 - val_accuracy: 0.7987\n",
      "Epoch 16/100\n",
      "128/128 [==============================] - 1s 4ms/step - loss: 0.4365 - accuracy: 0.7934 - val_loss: 0.4245 - val_accuracy: 0.7987\n",
      "Epoch 17/100\n",
      "128/128 [==============================] - 1s 5ms/step - loss: 0.4349 - accuracy: 0.7934 - val_loss: 0.4231 - val_accuracy: 0.7987\n",
      "Epoch 18/100\n",
      "128/128 [==============================] - 0s 3ms/step - loss: 0.4333 - accuracy: 0.7934 - val_loss: 0.4218 - val_accuracy: 0.7987\n",
      "Epoch 19/100\n",
      "128/128 [==============================] - 0s 3ms/step - loss: 0.4320 - accuracy: 0.7934 - val_loss: 0.4205 - val_accuracy: 0.7987\n",
      "Epoch 20/100\n",
      "128/128 [==============================] - 0s 3ms/step - loss: 0.4308 - accuracy: 0.7934 - val_loss: 0.4195 - val_accuracy: 0.7987\n",
      "Epoch 21/100\n",
      "128/128 [==============================] - 0s 3ms/step - loss: 0.4297 - accuracy: 0.7934 - val_loss: 0.4185 - val_accuracy: 0.7987\n",
      "Epoch 22/100\n",
      "128/128 [==============================] - 0s 3ms/step - loss: 0.4287 - accuracy: 0.7941 - val_loss: 0.4176 - val_accuracy: 0.8031\n",
      "Epoch 23/100\n",
      "128/128 [==============================] - 0s 3ms/step - loss: 0.4278 - accuracy: 0.7970 - val_loss: 0.4168 - val_accuracy: 0.8081\n",
      "Epoch 24/100\n",
      "128/128 [==============================] - 0s 3ms/step - loss: 0.4270 - accuracy: 0.8034 - val_loss: 0.4160 - val_accuracy: 0.8106\n",
      "Epoch 25/100\n",
      "128/128 [==============================] - 0s 3ms/step - loss: 0.4262 - accuracy: 0.8059 - val_loss: 0.4152 - val_accuracy: 0.8169\n",
      "Epoch 26/100\n",
      "128/128 [==============================] - 0s 3ms/step - loss: 0.4254 - accuracy: 0.8089 - val_loss: 0.4145 - val_accuracy: 0.8213\n",
      "Epoch 27/100\n",
      "128/128 [==============================] - 0s 3ms/step - loss: 0.4246 - accuracy: 0.8122 - val_loss: 0.4139 - val_accuracy: 0.8225\n",
      "Epoch 28/100\n",
      "128/128 [==============================] - 0s 3ms/step - loss: 0.4240 - accuracy: 0.8134 - val_loss: 0.4133 - val_accuracy: 0.8263\n",
      "Epoch 29/100\n",
      "128/128 [==============================] - 0s 3ms/step - loss: 0.4233 - accuracy: 0.8177 - val_loss: 0.4127 - val_accuracy: 0.8275\n",
      "Epoch 30/100\n",
      "128/128 [==============================] - 0s 3ms/step - loss: 0.4227 - accuracy: 0.8186 - val_loss: 0.4121 - val_accuracy: 0.8300\n",
      "Epoch 31/100\n",
      "128/128 [==============================] - 0s 3ms/step - loss: 0.4221 - accuracy: 0.8200 - val_loss: 0.4116 - val_accuracy: 0.8313\n",
      "Epoch 32/100\n",
      "128/128 [==============================] - 0s 3ms/step - loss: 0.4216 - accuracy: 0.8217 - val_loss: 0.4112 - val_accuracy: 0.8313\n",
      "Epoch 33/100\n",
      "128/128 [==============================] - 0s 3ms/step - loss: 0.4210 - accuracy: 0.8230 - val_loss: 0.4106 - val_accuracy: 0.8294\n",
      "Epoch 34/100\n",
      "128/128 [==============================] - 0s 3ms/step - loss: 0.4205 - accuracy: 0.8233 - val_loss: 0.4102 - val_accuracy: 0.8319\n",
      "Epoch 35/100\n",
      "128/128 [==============================] - 0s 3ms/step - loss: 0.4201 - accuracy: 0.8234 - val_loss: 0.4098 - val_accuracy: 0.8306\n",
      "Epoch 36/100\n",
      "128/128 [==============================] - 0s 3ms/step - loss: 0.4196 - accuracy: 0.8248 - val_loss: 0.4095 - val_accuracy: 0.8319\n",
      "Epoch 37/100\n",
      "128/128 [==============================] - 0s 3ms/step - loss: 0.4192 - accuracy: 0.8256 - val_loss: 0.4090 - val_accuracy: 0.8325\n",
      "Epoch 38/100\n",
      "128/128 [==============================] - 0s 3ms/step - loss: 0.4188 - accuracy: 0.8264 - val_loss: 0.4087 - val_accuracy: 0.8325\n",
      "Epoch 39/100\n",
      "128/128 [==============================] - 0s 4ms/step - loss: 0.4184 - accuracy: 0.8263 - val_loss: 0.4084 - val_accuracy: 0.8338\n",
      "Epoch 40/100\n",
      "128/128 [==============================] - 1s 4ms/step - loss: 0.4181 - accuracy: 0.8280 - val_loss: 0.4081 - val_accuracy: 0.8325\n",
      "Epoch 41/100\n",
      "128/128 [==============================] - 0s 4ms/step - loss: 0.4177 - accuracy: 0.8267 - val_loss: 0.4077 - val_accuracy: 0.8325\n",
      "Epoch 42/100\n",
      "128/128 [==============================] - 0s 4ms/step - loss: 0.4174 - accuracy: 0.8270 - val_loss: 0.4075 - val_accuracy: 0.8331\n",
      "Epoch 43/100\n",
      "128/128 [==============================] - 0s 4ms/step - loss: 0.4171 - accuracy: 0.8278 - val_loss: 0.4072 - val_accuracy: 0.8338\n",
      "Epoch 44/100\n",
      "128/128 [==============================] - 0s 4ms/step - loss: 0.4169 - accuracy: 0.8277 - val_loss: 0.4069 - val_accuracy: 0.8344\n",
      "Epoch 45/100\n",
      "128/128 [==============================] - 0s 4ms/step - loss: 0.4166 - accuracy: 0.8292 - val_loss: 0.4067 - val_accuracy: 0.8338\n",
      "Epoch 46/100\n",
      "128/128 [==============================] - 0s 4ms/step - loss: 0.4163 - accuracy: 0.8297 - val_loss: 0.4064 - val_accuracy: 0.8338\n",
      "Epoch 47/100\n",
      "128/128 [==============================] - 0s 4ms/step - loss: 0.4160 - accuracy: 0.8297 - val_loss: 0.4061 - val_accuracy: 0.8350\n",
      "Epoch 48/100\n",
      "128/128 [==============================] - 0s 4ms/step - loss: 0.4158 - accuracy: 0.8298 - val_loss: 0.4060 - val_accuracy: 0.8363\n",
      "Epoch 49/100\n",
      "128/128 [==============================] - 0s 4ms/step - loss: 0.4155 - accuracy: 0.8308 - val_loss: 0.4058 - val_accuracy: 0.8375\n",
      "Epoch 50/100\n",
      "128/128 [==============================] - 0s 3ms/step - loss: 0.4154 - accuracy: 0.8308 - val_loss: 0.4056 - val_accuracy: 0.8375\n",
      "Epoch 51/100\n",
      "128/128 [==============================] - 0s 3ms/step - loss: 0.4151 - accuracy: 0.8316 - val_loss: 0.4053 - val_accuracy: 0.8375\n",
      "Epoch 52/100\n",
      "128/128 [==============================] - 0s 3ms/step - loss: 0.4149 - accuracy: 0.8308 - val_loss: 0.4052 - val_accuracy: 0.8369\n",
      "Epoch 53/100\n",
      "128/128 [==============================] - 0s 3ms/step - loss: 0.4147 - accuracy: 0.8308 - val_loss: 0.4051 - val_accuracy: 0.8369\n",
      "Epoch 54/100\n",
      "128/128 [==============================] - 0s 3ms/step - loss: 0.4145 - accuracy: 0.8317 - val_loss: 0.4048 - val_accuracy: 0.8356\n",
      "Epoch 55/100\n",
      "128/128 [==============================] - 0s 3ms/step - loss: 0.4143 - accuracy: 0.8319 - val_loss: 0.4046 - val_accuracy: 0.8363\n",
      "Epoch 56/100\n",
      "128/128 [==============================] - 0s 3ms/step - loss: 0.4141 - accuracy: 0.8317 - val_loss: 0.4046 - val_accuracy: 0.8363\n",
      "Epoch 57/100\n",
      "128/128 [==============================] - 0s 3ms/step - loss: 0.4140 - accuracy: 0.8311 - val_loss: 0.4044 - val_accuracy: 0.8356\n",
      "Epoch 58/100\n",
      "128/128 [==============================] - 0s 3ms/step - loss: 0.4138 - accuracy: 0.8313 - val_loss: 0.4042 - val_accuracy: 0.8369\n",
      "Epoch 59/100\n",
      "128/128 [==============================] - 0s 3ms/step - loss: 0.4137 - accuracy: 0.8325 - val_loss: 0.4042 - val_accuracy: 0.8369\n",
      "Epoch 60/100\n",
      "128/128 [==============================] - 0s 3ms/step - loss: 0.4135 - accuracy: 0.8327 - val_loss: 0.4040 - val_accuracy: 0.8363\n",
      "Epoch 61/100\n",
      "128/128 [==============================] - 1s 5ms/step - loss: 0.4133 - accuracy: 0.8325 - val_loss: 0.4039 - val_accuracy: 0.8363\n",
      "Epoch 62/100\n",
      "128/128 [==============================] - 0s 4ms/step - loss: 0.4132 - accuracy: 0.8333 - val_loss: 0.4038 - val_accuracy: 0.8369\n",
      "Epoch 63/100\n",
      "128/128 [==============================] - 1s 4ms/step - loss: 0.4131 - accuracy: 0.8327 - val_loss: 0.4037 - val_accuracy: 0.8369\n",
      "Epoch 64/100\n",
      "128/128 [==============================] - 1s 4ms/step - loss: 0.4129 - accuracy: 0.8330 - val_loss: 0.4035 - val_accuracy: 0.8363\n",
      "Epoch 65/100\n",
      "128/128 [==============================] - 0s 4ms/step - loss: 0.4129 - accuracy: 0.8341 - val_loss: 0.4034 - val_accuracy: 0.8363\n",
      "Epoch 66/100\n",
      "128/128 [==============================] - 0s 3ms/step - loss: 0.4127 - accuracy: 0.8327 - val_loss: 0.4034 - val_accuracy: 0.8363\n",
      "Epoch 67/100\n",
      "128/128 [==============================] - 0s 3ms/step - loss: 0.4126 - accuracy: 0.8344 - val_loss: 0.4032 - val_accuracy: 0.8363\n",
      "Epoch 68/100\n",
      "128/128 [==============================] - 0s 3ms/step - loss: 0.4125 - accuracy: 0.8344 - val_loss: 0.4031 - val_accuracy: 0.8363\n",
      "Epoch 69/100\n",
      "128/128 [==============================] - 0s 3ms/step - loss: 0.4124 - accuracy: 0.8344 - val_loss: 0.4031 - val_accuracy: 0.8369\n",
      "Epoch 70/100\n",
      "128/128 [==============================] - 0s 3ms/step - loss: 0.4122 - accuracy: 0.8350 - val_loss: 0.4029 - val_accuracy: 0.8369\n",
      "Epoch 71/100\n",
      "128/128 [==============================] - 0s 3ms/step - loss: 0.4121 - accuracy: 0.8339 - val_loss: 0.4029 - val_accuracy: 0.8369\n",
      "Epoch 72/100\n",
      "128/128 [==============================] - 0s 3ms/step - loss: 0.4120 - accuracy: 0.8347 - val_loss: 0.4028 - val_accuracy: 0.8369\n",
      "Epoch 73/100\n",
      "128/128 [==============================] - 0s 3ms/step - loss: 0.4119 - accuracy: 0.8347 - val_loss: 0.4027 - val_accuracy: 0.8369\n",
      "Epoch 74/100\n",
      "128/128 [==============================] - 0s 3ms/step - loss: 0.4118 - accuracy: 0.8344 - val_loss: 0.4027 - val_accuracy: 0.8369\n",
      "Epoch 75/100\n",
      "128/128 [==============================] - 0s 4ms/step - loss: 0.4118 - accuracy: 0.8350 - val_loss: 0.4026 - val_accuracy: 0.8369\n",
      "Epoch 76/100\n",
      "128/128 [==============================] - 0s 4ms/step - loss: 0.4117 - accuracy: 0.8345 - val_loss: 0.4025 - val_accuracy: 0.8369\n",
      "Epoch 77/100\n",
      "128/128 [==============================] - 0s 3ms/step - loss: 0.4116 - accuracy: 0.8348 - val_loss: 0.4025 - val_accuracy: 0.8369\n",
      "Epoch 78/100\n",
      "128/128 [==============================] - 0s 3ms/step - loss: 0.4115 - accuracy: 0.8353 - val_loss: 0.4024 - val_accuracy: 0.8369\n",
      "Epoch 79/100\n",
      "128/128 [==============================] - 0s 3ms/step - loss: 0.4114 - accuracy: 0.8345 - val_loss: 0.4024 - val_accuracy: 0.8369\n",
      "Epoch 80/100\n",
      "128/128 [==============================] - 0s 3ms/step - loss: 0.4113 - accuracy: 0.8347 - val_loss: 0.4023 - val_accuracy: 0.8369\n",
      "Epoch 81/100\n",
      "128/128 [==============================] - 0s 3ms/step - loss: 0.4113 - accuracy: 0.8350 - val_loss: 0.4023 - val_accuracy: 0.8369\n",
      "Epoch 82/100\n",
      "128/128 [==============================] - 0s 3ms/step - loss: 0.4112 - accuracy: 0.8348 - val_loss: 0.4022 - val_accuracy: 0.8369\n",
      "Epoch 83/100\n",
      "128/128 [==============================] - 0s 3ms/step - loss: 0.4111 - accuracy: 0.8352 - val_loss: 0.4022 - val_accuracy: 0.8369\n",
      "Epoch 84/100\n",
      "128/128 [==============================] - 0s 4ms/step - loss: 0.4110 - accuracy: 0.8347 - val_loss: 0.4021 - val_accuracy: 0.8363\n",
      "Epoch 85/100\n",
      " 64/128 [==============>...............] - ETA: 0s - loss: 0.4040 - accuracy: 0.8413"
     ]
    }
   ],
   "source": [
    "history = model.fit(x_train_scaled, y_train, batch_size=50, epochs=100, verbose=1, validation_split=0.2)"
   ]
  },
  {
   "cell_type": "code",
   "execution_count": null,
   "id": "1a07f069-7dbf-44bd-ab89-91fce7823461",
   "metadata": {},
   "outputs": [],
   "source": [
    "Prediction"
   ]
  },
  {
   "cell_type": "code",
   "execution_count": null,
   "id": "338640e3-754c-4b3f-aed2-392af014546b",
   "metadata": {},
   "outputs": [],
   "source": [
    "y_pred = model.predict(x_test_scaled)\n",
    "y_pred = (y_pred > 0.5).astype(int)"
   ]
  },
  {
   "cell_type": "code",
   "execution_count": null,
   "id": "04e9abf0-c934-4fea-895e-a1069c3a2959",
   "metadata": {},
   "outputs": [],
   "source": [
    "Evaluation"
   ]
  },
  {
   "cell_type": "code",
   "execution_count": null,
   "id": "fd1186cc-0f6f-4b0f-bb2a-a801d0569b54",
   "metadata": {},
   "outputs": [],
   "source": [
    "accuracy = accuracy_score(y_test, y_pred)\n",
    "print(\"Test Accuracy:\", accuracy)"
   ]
  },
  {
   "cell_type": "code",
   "execution_count": null,
   "id": "b575ad3e-2af2-4a88-a42a-b14912a73f61",
   "metadata": {},
   "outputs": [],
   "source": [
    "plt.figure(figsize=(12, 6))\n",
    "\n",
    "plt.subplot(1, 2, 1)\n",
    "plt.plot(history.history['loss'], label='Train Loss')\n",
    "plt.plot(history.history['val_loss'], label='Val Loss')\n",
    "plt.title(\"Loss over Epochs\")\n",
    "plt.xlabel(\"Epoch\")\n",
    "plt.ylabel(\"Loss\")\n",
    "plt.legend()"
   ]
  },
  {
   "cell_type": "code",
   "execution_count": null,
   "id": "14ad2d8e-54e8-41fc-8efb-69c96ab90d8d",
   "metadata": {},
   "outputs": [],
   "source": [
    "plt.subplot(1, 2, 2)\n",
    "plt.plot(history.history['accuracy'], label='Train Acc')\n",
    "plt.plot(history.history['val_accuracy'], label='Val Acc')\n",
    "plt.title(\"Accuracy over Epochs\")\n",
    "plt.xlabel(\"Epoch\")\n",
    "plt.ylabel(\"Accuracy\")\n",
    "plt.legend()\n",
    "\n",
    "plt.tight_layout()\n",
    "plt.show()"
   ]
  },
  {
   "cell_type": "code",
   "execution_count": null,
   "id": "826fb817-4957-4cb6-801c-9125472f407c",
   "metadata": {},
   "outputs": [],
   "source": []
  }
 ],
 "metadata": {
  "kernelspec": {
   "display_name": "Python 3 (ipykernel)",
   "language": "python",
   "name": "python3"
  },
  "language_info": {
   "codemirror_mode": {
    "name": "ipython",
    "version": 3
   },
   "file_extension": ".py",
   "mimetype": "text/x-python",
   "name": "python",
   "nbconvert_exporter": "python",
   "pygments_lexer": "ipython3",
   "version": "3.10.0"
  }
 },
 "nbformat": 4,
 "nbformat_minor": 5
}
